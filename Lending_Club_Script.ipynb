{
 "cells": [
  {
   "cell_type": "code",
   "execution_count": 2,
   "metadata": {},
   "outputs": [],
   "source": [
    "import pandas as pd\n",
    "import os\n",
    "\n",
    "# Define the input CSV file and output directory for the new CSV files\n",
    "input_csv_file = '/Users/amandagolubics/Programs/Python/lending-club-calcs/data/accepted_2007_to_2018Q4.csv'\n",
    "output_directory = './final_data'\n",
    "\n",
    "# Create the output directory if it doesn't exist\n",
    "os.makedirs(output_directory, exist_ok=True)\n",
    "\n",
    "# Read the data from the input CSV file\n",
    "data = pd.read_csv(input_csv_file, low_memory=False)"
   ]
  },
  {
   "cell_type": "markdown",
   "metadata": {},
   "source": [
    "#### Keeping only relevant columns"
   ]
  },
  {
   "cell_type": "code",
   "execution_count": 9,
   "metadata": {},
   "outputs": [
    {
     "data": {
      "text/plain": [
       "Index(['id', 'loan_amnt', 'term', 'int_rate', 'installment', 'grade',\n",
       "       'emp_title', 'home_ownership', 'annual_inc', 'issue_d', 'purpose',\n",
       "       'dti', 'fico_range_low', 'fico_range_high', 'inq_last_6mths',\n",
       "       'open_acc', 'revol_bal', 'total_pymnt', 'recoveries',\n",
       "       'last_fico_range_high', 'last_fico_range_low', 'acc_now_delinq',\n",
       "       'tot_cur_bal', 'inq_fi', 'inq_last_12m', 'bc_util', 'delinq_amnt'],\n",
       "      dtype='object')"
      ]
     },
     "execution_count": 9,
     "metadata": {},
     "output_type": "execute_result"
    }
   ],
   "source": [
    "columnsList = [\"id\", \"loan_amnt\", \"term\", \"int_rate\", \"installment\", \"grade\", \"emp_title\", \"home_ownership\",\"annual_inc\", \"issue_d\", \"purpose\", \"dti\", \"fico_range_high\", \"fico_range_low\",\"inq_fi\", \"inq_last_12m\", \"inq_last_6mths\", \"open_acc\",\"revol_bal\", \"total_pymnt\", \"recoveries\", \"last_fico_range_high\", \"last_fico_range_low\", \"tot_cur_bal\", \"delinq_amnt\", \"bc_util\",\"acc_now_delinq\"]\n",
    "column_to_remove = data.loc[:,~data.columns.isin(columnsList)].copy()\n",
    "data = data.drop(columns=column_to_remove.columns)\n",
    "data.columns"
   ]
  },
  {
   "cell_type": "markdown",
   "metadata": {},
   "source": [
    "#### Putting all loans in a single file"
   ]
  },
  {
   "cell_type": "code",
   "execution_count": 11,
   "metadata": {},
   "outputs": [],
   "source": [
    "all_output_csv_file = os.path.join(output_directory, f'all_loans.csv')\n",
    "data.to_csv(all_output_csv_file, index=False)"
   ]
  },
  {
   "cell_type": "markdown",
   "metadata": {},
   "source": [
    "#### Breaking down loans by year and saving on separate files"
   ]
  },
  {
   "cell_type": "code",
   "execution_count": 10,
   "metadata": {},
   "outputs": [
    {
     "name": "stdout",
     "output_type": "stream",
     "text": [
      "CSV files created successfully!\n"
     ]
    }
   ],
   "source": [
    "# Convert the \"issue_d\" column to a datetime object\n",
    "data['issue_d'] = pd.to_datetime(data['issue_d'])\n",
    "\n",
    "# Group the data by the year in the \"issue_d\" column\n",
    "grouped = data.groupby(data['issue_d'].dt.year)\n",
    "\n",
    "# Iterate through each group (year) and create a new CSV file\n",
    "for year, group_data in grouped:\n",
    "    # Define the output file name for this year\n",
    "    output_csv_file = os.path.join(output_directory, f'loans_{year}.csv')\n",
    "    \n",
    "    # Save the data for this year to a new CSV file\n",
    "    group_data.to_csv(output_csv_file, index=False)\n",
    "\n",
    "print(\"CSV files created successfully!\")"
   ]
  }
 ],
 "metadata": {
  "kernelspec": {
   "display_name": "Python 3",
   "language": "python",
   "name": "python3"
  },
  "language_info": {
   "codemirror_mode": {
    "name": "ipython",
    "version": 3
   },
   "file_extension": ".py",
   "mimetype": "text/x-python",
   "name": "python",
   "nbconvert_exporter": "python",
   "pygments_lexer": "ipython3",
   "version": "3.10.2"
  }
 },
 "nbformat": 4,
 "nbformat_minor": 2
}
